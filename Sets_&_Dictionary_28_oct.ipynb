{
 "cells": [
  {
   "cell_type": "markdown",
   "id": "179a794b",
   "metadata": {},
   "source": [
    "# Set in Python"
   ]
  },
  {
   "cell_type": "markdown",
   "id": "3f0b5f71",
   "metadata": {},
   "source": [
    "* Sets are used to store multiple items in a single variable.\n",
    "* A set is a collection which is unordered, unchangeable, and unindexed.\n",
    "* Set items are unchangeable, meaning that we cannot change the items after the set has been created.\n",
    "* Sets cannot have two items with the same value."
   ]
  },
  {
   "cell_type": "code",
   "execution_count": 1,
   "id": "aa3a87a6",
   "metadata": {},
   "outputs": [
    {
     "name": "stdout",
     "output_type": "stream",
     "text": [
      "{True, 'Harsh', <built-in function print>, 11, (4+3j), 25.2, <class 'range'>}\n",
      "<class 'set'>\n",
      "7\n",
      "0x13285d41700\n"
     ]
    }
   ],
   "source": [
    "x = {11, 25.2, 4+3j, 'Harsh', print, range, True}\n",
    "\n",
    "print(x, type(x), len(x), hex(id(x)), sep ='\\n')"
   ]
  },
  {
   "cell_type": "markdown",
   "id": "7bed1877",
   "metadata": {},
   "source": [
    "#### Empty set"
   ]
  },
  {
   "cell_type": "code",
   "execution_count": 2,
   "id": "3e037719",
   "metadata": {},
   "outputs": [
    {
     "name": "stdout",
     "output_type": "stream",
     "text": [
      "set()\n",
      "<class 'set'>\n",
      "0\n",
      "0x13285d41d20\n"
     ]
    }
   ],
   "source": [
    "x = set()\n",
    "\n",
    "print(x, type(x), len(x), hex(id(x)), sep ='\\n')"
   ]
  },
  {
   "cell_type": "markdown",
   "id": "e27caf3e",
   "metadata": {},
   "source": [
    "### Create a Set in Python\n",
    "* In Python, we create sets by placing all the elements inside curly braces {}, separated by comma.\n",
    "* there are two ways to create a set -\n",
    "    * by using curly braces {}\n",
    "    * by using `set()`"
   ]
  },
  {
   "cell_type": "code",
   "execution_count": 6,
   "id": "a390e289",
   "metadata": {},
   "outputs": [
    {
     "name": "stdout",
     "output_type": "stream",
     "text": [
      "{33, 66, 'Harshit', 22, 55, 11, 44}\n",
      "<class 'set'>\n",
      "7\n",
      "0x13285d41a80\n"
     ]
    }
   ],
   "source": [
    "x = {11,22,33,44,55,66,'Harshit'}\n",
    "\n",
    "print(x, type(x), len(x), hex(id(x)), sep ='\\n')"
   ]
  },
  {
   "cell_type": "code",
   "execution_count": 8,
   "id": "db758d6a",
   "metadata": {},
   "outputs": [
    {
     "name": "stdout",
     "output_type": "stream",
     "text": [
      "{33, 11, 44, 22, 55, 'harsh'}\n",
      "<class 'set'>\n",
      "6\n",
      "0x13285d419a0\n"
     ]
    }
   ],
   "source": [
    "x = set([11,22,33,44,55,'harsh'])\n",
    "\n",
    "print(x, type(x), len(x), hex(id(x)), sep ='\\n')"
   ]
  },
  {
   "cell_type": "code",
   "execution_count": 9,
   "id": "0ac11e92",
   "metadata": {},
   "outputs": [
    {
     "name": "stdout",
     "output_type": "stream",
     "text": [
      "{1, 2, 3, 4, 5}\n"
     ]
    }
   ],
   "source": [
    "a = {1,2,1,3,1,4,1,5} #Sets cannot have two items with the same value\n",
    "print(a)"
   ]
  },
  {
   "cell_type": "code",
   "execution_count": 10,
   "id": "9766302d",
   "metadata": {},
   "outputs": [
    {
     "data": {
      "text/plain": [
       "['__and__',\n",
       " '__class__',\n",
       " '__class_getitem__',\n",
       " '__contains__',\n",
       " '__delattr__',\n",
       " '__dir__',\n",
       " '__doc__',\n",
       " '__eq__',\n",
       " '__format__',\n",
       " '__ge__',\n",
       " '__getattribute__',\n",
       " '__getstate__',\n",
       " '__gt__',\n",
       " '__hash__',\n",
       " '__iand__',\n",
       " '__init__',\n",
       " '__init_subclass__',\n",
       " '__ior__',\n",
       " '__isub__',\n",
       " '__iter__',\n",
       " '__ixor__',\n",
       " '__le__',\n",
       " '__len__',\n",
       " '__lt__',\n",
       " '__ne__',\n",
       " '__new__',\n",
       " '__or__',\n",
       " '__rand__',\n",
       " '__reduce__',\n",
       " '__reduce_ex__',\n",
       " '__repr__',\n",
       " '__ror__',\n",
       " '__rsub__',\n",
       " '__rxor__',\n",
       " '__setattr__',\n",
       " '__sizeof__',\n",
       " '__str__',\n",
       " '__sub__',\n",
       " '__subclasshook__',\n",
       " '__xor__',\n",
       " 'add',\n",
       " 'clear',\n",
       " 'copy',\n",
       " 'difference',\n",
       " 'difference_update',\n",
       " 'discard',\n",
       " 'intersection',\n",
       " 'intersection_update',\n",
       " 'isdisjoint',\n",
       " 'issubset',\n",
       " 'issuperset',\n",
       " 'pop',\n",
       " 'remove',\n",
       " 'symmetric_difference',\n",
       " 'symmetric_difference_update',\n",
       " 'union',\n",
       " 'update']"
      ]
     },
     "execution_count": 10,
     "metadata": {},
     "output_type": "execute_result"
    }
   ],
   "source": [
    "dir(set)"
   ]
  },
  {
   "cell_type": "markdown",
   "id": "c9fbec53",
   "metadata": {},
   "source": [
    "## Methods of set"
   ]
  },
  {
   "cell_type": "markdown",
   "id": "0d0697aa",
   "metadata": {},
   "source": [
    "### add()"
   ]
  },
  {
   "cell_type": "markdown",
   "id": "8d1e765e",
   "metadata": {},
   "source": [
    "* The add() method adds an element to the set.\n",
    "\n",
    "* If the element already exists, the add() method does not add the element.\n"
   ]
  },
  {
   "cell_type": "markdown",
   "id": "91b7f58b",
   "metadata": {},
   "source": [
    "\n",
    "* Syntax\n",
    "    * set.add(elmnt)"
   ]
  },
  {
   "cell_type": "code",
   "execution_count": 11,
   "id": "8c6637a7",
   "metadata": {},
   "outputs": [
    {
     "name": "stdout",
     "output_type": "stream",
     "text": [
      "Help on method_descriptor:\n",
      "\n",
      "add(...)\n",
      "    Add an element to a set.\n",
      "    \n",
      "    This has no effect if the element is already present.\n",
      "\n"
     ]
    }
   ],
   "source": [
    "help(set.add)"
   ]
  },
  {
   "cell_type": "code",
   "execution_count": 12,
   "id": "f93497b5",
   "metadata": {},
   "outputs": [
    {
     "name": "stdout",
     "output_type": "stream",
     "text": [
      "set()\n"
     ]
    }
   ],
   "source": [
    "x = set()\n",
    "print(x)"
   ]
  },
  {
   "cell_type": "code",
   "execution_count": 13,
   "id": "0ffc9156",
   "metadata": {},
   "outputs": [
    {
     "name": "stdout",
     "output_type": "stream",
     "text": [
      "{25}\n"
     ]
    }
   ],
   "source": [
    "x.add(25)\n",
    "print(x)"
   ]
  },
  {
   "cell_type": "code",
   "execution_count": 14,
   "id": "05ea6a49",
   "metadata": {},
   "outputs": [
    {
     "name": "stdout",
     "output_type": "stream",
     "text": [
      "{25, 35}\n"
     ]
    }
   ],
   "source": [
    "x.add(35)\n",
    "print(x)"
   ]
  },
  {
   "cell_type": "markdown",
   "id": "a559d8d9",
   "metadata": {},
   "source": [
    "### update()"
   ]
  },
  {
   "cell_type": "markdown",
   "id": "cd0739dd",
   "metadata": {},
   "source": [
    "* The update() method updates the current set, by adding items from another set.\n",
    "\n",
    "* If an item is present in both sets, only one appearance of this item will be present in the updated set.\n"
   ]
  },
  {
   "cell_type": "markdown",
   "id": "7e5e9190",
   "metadata": {},
   "source": [
    "* Syntax\n",
    "    * set.update(set)"
   ]
  },
  {
   "cell_type": "code",
   "execution_count": 15,
   "id": "b822ce8b",
   "metadata": {},
   "outputs": [
    {
     "name": "stdout",
     "output_type": "stream",
     "text": [
      "Help on method_descriptor:\n",
      "\n",
      "update(...)\n",
      "    Update a set with the union of itself and others.\n",
      "\n"
     ]
    }
   ],
   "source": [
    "help(set.update)"
   ]
  },
  {
   "cell_type": "code",
   "execution_count": 16,
   "id": "b3d44a20",
   "metadata": {},
   "outputs": [
    {
     "name": "stdout",
     "output_type": "stream",
     "text": [
      "{1, 2, 3, 5, 15}\n"
     ]
    }
   ],
   "source": [
    "x = {1,2,3}\n",
    "\n",
    "x.update((5,15))\n",
    "print(x)"
   ]
  },
  {
   "cell_type": "code",
   "execution_count": 18,
   "id": "4cfeeb48",
   "metadata": {},
   "outputs": [
    {
     "name": "stdout",
     "output_type": "stream",
     "text": [
      "{1, 2, 3, 5, 10, 11, 15}\n"
     ]
    }
   ],
   "source": [
    "x.update((10,11))\n",
    "print(x)"
   ]
  },
  {
   "cell_type": "markdown",
   "id": "c0f0b3a8",
   "metadata": {},
   "source": [
    "### remove()"
   ]
  },
  {
   "cell_type": "markdown",
   "id": "7a5b7307",
   "metadata": {},
   "source": [
    "* The remove() method removes the specified element from the set.\n",
    "* This method is different from the discard() method, because the remove() method will raise an error if the specified item does not exist, and the discard() method will not."
   ]
  },
  {
   "cell_type": "markdown",
   "id": "25321cfb",
   "metadata": {},
   "source": [
    "* Syntax\n",
    "    * set.remove(item)"
   ]
  },
  {
   "cell_type": "code",
   "execution_count": 19,
   "id": "6d02e7c0",
   "metadata": {},
   "outputs": [
    {
     "name": "stdout",
     "output_type": "stream",
     "text": [
      "Help on method_descriptor:\n",
      "\n",
      "remove(...)\n",
      "    Remove an element from a set; it must be a member.\n",
      "    \n",
      "    If the element is not a member, raise a KeyError.\n",
      "\n"
     ]
    }
   ],
   "source": [
    "help(set.remove)"
   ]
  },
  {
   "cell_type": "code",
   "execution_count": 20,
   "id": "22c808d0",
   "metadata": {
    "scrolled": true
   },
   "outputs": [
    {
     "name": "stdout",
     "output_type": "stream",
     "text": [
      "{40, 10, 30}\n"
     ]
    }
   ],
   "source": [
    "x = {10,20,30,40}\n",
    "\n",
    "x.remove(20)\n",
    "print(x)"
   ]
  },
  {
   "cell_type": "code",
   "execution_count": null,
   "id": "cab90fda",
   "metadata": {},
   "outputs": [],
   "source": [
    "# x.remove(1) # uncomment to see the error\n",
    "# x"
   ]
  },
  {
   "cell_type": "markdown",
   "id": "75f4722f",
   "metadata": {},
   "source": [
    "### discard()"
   ]
  },
  {
   "cell_type": "markdown",
   "id": "5ae5e13a",
   "metadata": {},
   "source": [
    "* The discard() method removes the specified item from the set.\n",
    "\n",
    "* This method is different from the remove() method, because the remove() method will raise an error if the specified item does not exist, and the discard() method will not.\n"
   ]
  },
  {
   "cell_type": "markdown",
   "id": "ebfc0369",
   "metadata": {},
   "source": [
    "* Syntax\n",
    "    * set.discard(value)"
   ]
  },
  {
   "cell_type": "code",
   "execution_count": 21,
   "id": "2256e5f2",
   "metadata": {},
   "outputs": [
    {
     "name": "stdout",
     "output_type": "stream",
     "text": [
      "Help on method_descriptor:\n",
      "\n",
      "discard(...)\n",
      "    Remove an element from a set if it is a member.\n",
      "    \n",
      "    Unlike set.remove(), the discard() method does not raise\n",
      "    an exception when an element is missing from the set.\n",
      "\n"
     ]
    }
   ],
   "source": [
    "help(set.discard)"
   ]
  },
  {
   "cell_type": "code",
   "execution_count": 22,
   "id": "f692b81c",
   "metadata": {},
   "outputs": [
    {
     "name": "stdout",
     "output_type": "stream",
     "text": [
      "{40, 10, 30}\n"
     ]
    }
   ],
   "source": [
    "x = {10,20,30,40}\n",
    "\n",
    "x.discard(20)\n",
    "print(x)"
   ]
  },
  {
   "cell_type": "code",
   "execution_count": 23,
   "id": "4671b60b",
   "metadata": {},
   "outputs": [
    {
     "name": "stdout",
     "output_type": "stream",
     "text": [
      "{40, 10, 30}\n"
     ]
    }
   ],
   "source": [
    "x.discard(20)\n",
    "print(x)"
   ]
  },
  {
   "cell_type": "markdown",
   "id": "c60f3a61",
   "metadata": {},
   "source": [
    "### pop()"
   ]
  },
  {
   "cell_type": "markdown",
   "id": "ec175110",
   "metadata": {},
   "source": [
    "* The pop() method removes a random item from the set.\n",
    "\n",
    "* This method returns the removed item.\n"
   ]
  },
  {
   "cell_type": "markdown",
   "id": "2ef8ddca",
   "metadata": {},
   "source": [
    "* Syntax\n",
    "    * set.pop()"
   ]
  },
  {
   "cell_type": "code",
   "execution_count": 24,
   "id": "9fc21f5b",
   "metadata": {},
   "outputs": [
    {
     "name": "stdout",
     "output_type": "stream",
     "text": [
      "Help on method_descriptor:\n",
      "\n",
      "pop(...)\n",
      "    Remove and return an arbitrary set element.\n",
      "    Raises KeyError if the set is empty.\n",
      "\n"
     ]
    }
   ],
   "source": [
    "help(set.pop)"
   ]
  },
  {
   "cell_type": "code",
   "execution_count": 25,
   "id": "855060a6",
   "metadata": {},
   "outputs": [
    {
     "name": "stdout",
     "output_type": "stream",
     "text": [
      "{20, 70, 40, 10, 60, 30}\n"
     ]
    }
   ],
   "source": [
    "x = {10,20,30,40,50,60,70}\n",
    "\n",
    "x.pop()\n",
    "print(x)"
   ]
  },
  {
   "cell_type": "markdown",
   "id": "af9fe0e1",
   "metadata": {},
   "source": [
    "### clear() "
   ]
  },
  {
   "cell_type": "markdown",
   "id": "13274bee",
   "metadata": {},
   "source": [
    "* The clear() method removes all elements in a set.\n"
   ]
  },
  {
   "cell_type": "markdown",
   "id": "238e3013",
   "metadata": {},
   "source": [
    "\n",
    "* Syntax\n",
    "    * set.clear()"
   ]
  },
  {
   "cell_type": "code",
   "execution_count": 27,
   "id": "794015a9",
   "metadata": {},
   "outputs": [
    {
     "name": "stdout",
     "output_type": "stream",
     "text": [
      "Help on method_descriptor:\n",
      "\n",
      "clear(...)\n",
      "    Remove all elements from this set.\n",
      "\n"
     ]
    }
   ],
   "source": [
    "help(set.clear)"
   ]
  },
  {
   "cell_type": "code",
   "execution_count": 28,
   "id": "f8ad8105",
   "metadata": {},
   "outputs": [
    {
     "name": "stdout",
     "output_type": "stream",
     "text": [
      "set()\n"
     ]
    }
   ],
   "source": [
    "x = {10,20,30,40}\n",
    "\n",
    "x.clear()\n",
    "print(x)"
   ]
  },
  {
   "cell_type": "markdown",
   "id": "5f375ada",
   "metadata": {},
   "source": [
    "### isdisjoint()"
   ]
  },
  {
   "cell_type": "markdown",
   "id": "d299d613",
   "metadata": {},
   "source": [
    "* The isdisjoint() method returns True if none of the items are present in both sets, otherwise it returns False.\n"
   ]
  },
  {
   "cell_type": "markdown",
   "id": "3649f08d",
   "metadata": {},
   "source": [
    "\n",
    "* Syntax\n",
    "    * set.isdisjoint(set)"
   ]
  },
  {
   "cell_type": "code",
   "execution_count": 2,
   "id": "1a7bcde9",
   "metadata": {},
   "outputs": [
    {
     "name": "stdout",
     "output_type": "stream",
     "text": [
      "Help on method_descriptor:\n",
      "\n",
      "isdisjoint(...)\n",
      "    Return True if two sets have a null intersection.\n",
      "\n"
     ]
    }
   ],
   "source": [
    "help(set.isdisjoint)"
   ]
  },
  {
   "cell_type": "code",
   "execution_count": 23,
   "id": "c11f904e",
   "metadata": {},
   "outputs": [
    {
     "data": {
      "text/plain": [
       "False"
      ]
     },
     "execution_count": 23,
     "metadata": {},
     "output_type": "execute_result"
    }
   ],
   "source": [
    "a = {11,22,33,44,55}\n",
    "b = {44,55,66,77,88}\n",
    "\n",
    "a.isdisjoint(b)"
   ]
  },
  {
   "cell_type": "markdown",
   "id": "e5c8ec4b",
   "metadata": {},
   "source": [
    "###  issuperset()"
   ]
  },
  {
   "cell_type": "markdown",
   "id": "533809c7",
   "metadata": {},
   "source": [
    "* The issuperset() method returns True if all items in the specified set exists in the original set, otherwise it returns False."
   ]
  },
  {
   "cell_type": "markdown",
   "id": "df88d2ee",
   "metadata": {},
   "source": [
    "* Syntax\n",
    "    * set.issuperset(set)"
   ]
  },
  {
   "cell_type": "code",
   "execution_count": 6,
   "id": "37e7241e",
   "metadata": {},
   "outputs": [
    {
     "name": "stdout",
     "output_type": "stream",
     "text": [
      "Help on method_descriptor:\n",
      "\n",
      "issuperset(...)\n",
      "    Report whether this set contains another set.\n",
      "\n"
     ]
    }
   ],
   "source": [
    "help(set.issuperset)"
   ]
  },
  {
   "cell_type": "code",
   "execution_count": 25,
   "id": "b4a7b64a",
   "metadata": {},
   "outputs": [
    {
     "data": {
      "text/plain": [
       "True"
      ]
     },
     "execution_count": 25,
     "metadata": {},
     "output_type": "execute_result"
    }
   ],
   "source": [
    "a = {11,22,33,44,55}\n",
    "b = {44,55,66,77,88}\n",
    "c = set(range(11,99))\n",
    "\n",
    "c.issuperset(a)"
   ]
  },
  {
   "cell_type": "markdown",
   "id": "2d845af4",
   "metadata": {},
   "source": [
    "###  issubset()"
   ]
  },
  {
   "cell_type": "markdown",
   "id": "266bee01",
   "metadata": {},
   "source": [
    "* The issubset() method returns True if all items in the set exists in the specified set, otherwise it returns False.\n"
   ]
  },
  {
   "cell_type": "markdown",
   "id": "da4f3eba",
   "metadata": {},
   "source": [
    "\n",
    "* Syntax\n",
    "    * set.issubset(set)"
   ]
  },
  {
   "cell_type": "code",
   "execution_count": 7,
   "id": "dde2cc1a",
   "metadata": {},
   "outputs": [
    {
     "name": "stdout",
     "output_type": "stream",
     "text": [
      "Help on method_descriptor:\n",
      "\n",
      "issubset(...)\n",
      "    Report whether another set contains this set.\n",
      "\n"
     ]
    }
   ],
   "source": [
    "help(set.issubset)"
   ]
  },
  {
   "cell_type": "code",
   "execution_count": 26,
   "id": "7d50d140",
   "metadata": {},
   "outputs": [
    {
     "data": {
      "text/plain": [
       "True"
      ]
     },
     "execution_count": 26,
     "metadata": {},
     "output_type": "execute_result"
    }
   ],
   "source": [
    "a = {11,22,33,44,55}\n",
    "b = {44,55,66,77,88}\n",
    "c = set(range(11,99))\n",
    "\n",
    "a.issubset(c)"
   ]
  },
  {
   "cell_type": "markdown",
   "id": "488ccd98",
   "metadata": {},
   "source": [
    "### intersection()"
   ]
  },
  {
   "cell_type": "markdown",
   "id": "a6a545d9",
   "metadata": {},
   "source": [
    "* The intersection() method returns a set that contains the similarity between two or more sets."
   ]
  },
  {
   "cell_type": "markdown",
   "id": "fdab4613",
   "metadata": {},
   "source": [
    "* Syntax\n",
    "    * set.intersection(set1, set2 ... etc)"
   ]
  },
  {
   "cell_type": "code",
   "execution_count": 10,
   "id": "71d1ff60",
   "metadata": {},
   "outputs": [
    {
     "name": "stdout",
     "output_type": "stream",
     "text": [
      "Help on method_descriptor:\n",
      "\n",
      "intersection(...)\n",
      "    Return the intersection of two sets as a new set.\n",
      "    \n",
      "    (i.e. all elements that are in both sets.)\n",
      "\n"
     ]
    }
   ],
   "source": [
    "help(set.intersection)"
   ]
  },
  {
   "cell_type": "code",
   "execution_count": 27,
   "id": "45cba6fd",
   "metadata": {},
   "outputs": [
    {
     "data": {
      "text/plain": [
       "{44, 55}"
      ]
     },
     "execution_count": 27,
     "metadata": {},
     "output_type": "execute_result"
    }
   ],
   "source": [
    "a = {11,22,33,44,55}\n",
    "b = {44,55,66,77,88}\n",
    "\n",
    "a.intersection(b)"
   ]
  },
  {
   "cell_type": "code",
   "execution_count": 28,
   "id": "a0808922",
   "metadata": {},
   "outputs": [
    {
     "data": {
      "text/plain": [
       "set()"
      ]
     },
     "execution_count": 28,
     "metadata": {},
     "output_type": "execute_result"
    }
   ],
   "source": [
    "a = {11,22,33,44,55}\n",
    "b = {44,55,66,77,88}\n",
    "c = set(range(11,99))\n",
    "d = {'a','b','c'}\n",
    "\n",
    "a.intersection(d)"
   ]
  },
  {
   "cell_type": "markdown",
   "id": "d1af0225",
   "metadata": {},
   "source": [
    "### union()"
   ]
  },
  {
   "cell_type": "markdown",
   "id": "c5edb86b",
   "metadata": {},
   "source": [
    "* The union() method returns a set that contains all items from the original set, and all items from the specified set."
   ]
  },
  {
   "cell_type": "markdown",
   "id": "f3be1dba",
   "metadata": {},
   "source": [
    "* Syntax\n",
    "    * set.union(set1, set2...)"
   ]
  },
  {
   "cell_type": "code",
   "execution_count": 13,
   "id": "ad894022",
   "metadata": {},
   "outputs": [
    {
     "name": "stdout",
     "output_type": "stream",
     "text": [
      "Help on method_descriptor:\n",
      "\n",
      "union(...)\n",
      "    Return the union of sets as a new set.\n",
      "    \n",
      "    (i.e. all elements that are in either set.)\n",
      "\n"
     ]
    }
   ],
   "source": [
    "help(set.union)"
   ]
  },
  {
   "cell_type": "code",
   "execution_count": 29,
   "id": "640c6271",
   "metadata": {},
   "outputs": [
    {
     "data": {
      "text/plain": [
       "{11, 22, 33, 44, 55, 66, 77, 88}"
      ]
     },
     "execution_count": 29,
     "metadata": {},
     "output_type": "execute_result"
    }
   ],
   "source": [
    "a = {11,22,33,44,55}\n",
    "b = {44,55,66,77,88}\n",
    "\n",
    "a.union(b)"
   ]
  },
  {
   "cell_type": "markdown",
   "id": "c68e6049",
   "metadata": {},
   "source": [
    "### difference()"
   ]
  },
  {
   "cell_type": "markdown",
   "id": "cd3a5c7e",
   "metadata": {},
   "source": [
    "* The difference() method returns a set that contains the difference between two sets."
   ]
  },
  {
   "cell_type": "markdown",
   "id": "a1c7e90a",
   "metadata": {},
   "source": [
    "* Syntax\n",
    "    * set.difference(set)"
   ]
  },
  {
   "cell_type": "code",
   "execution_count": 15,
   "id": "8dcf235b",
   "metadata": {},
   "outputs": [
    {
     "name": "stdout",
     "output_type": "stream",
     "text": [
      "Help on method_descriptor:\n",
      "\n",
      "difference(...)\n",
      "    Return the difference of two or more sets as a new set.\n",
      "    \n",
      "    (i.e. all elements that are in this set but not the others.)\n",
      "\n"
     ]
    }
   ],
   "source": [
    "help(set.difference)"
   ]
  },
  {
   "cell_type": "code",
   "execution_count": 30,
   "id": "773884c3",
   "metadata": {},
   "outputs": [
    {
     "data": {
      "text/plain": [
       "{11, 22, 33}"
      ]
     },
     "execution_count": 30,
     "metadata": {},
     "output_type": "execute_result"
    }
   ],
   "source": [
    "a = {11,22,33,44,55}\n",
    "b = {44,55,66,77,88}\n",
    "\n",
    "a.difference(b)"
   ]
  },
  {
   "cell_type": "code",
   "execution_count": 31,
   "id": "6d7bb059",
   "metadata": {},
   "outputs": [
    {
     "data": {
      "text/plain": [
       "{66, 77, 88}"
      ]
     },
     "execution_count": 31,
     "metadata": {},
     "output_type": "execute_result"
    }
   ],
   "source": [
    "a = {11,22,33,44,55}\n",
    "b = {44,55,66,77,88}\n",
    "\n",
    "b.difference(a)"
   ]
  },
  {
   "cell_type": "markdown",
   "id": "9b618b07",
   "metadata": {},
   "source": [
    "### symmetric_difference()"
   ]
  },
  {
   "cell_type": "markdown",
   "id": "32c6d478",
   "metadata": {},
   "source": [
    "* The symmetric_difference() method returns a set that contains all items from both set, but not the items that are present in both sets."
   ]
  },
  {
   "cell_type": "markdown",
   "id": "cfe1b821",
   "metadata": {},
   "source": [
    "* Syntax\n",
    "    * set.symmetric_difference(set)"
   ]
  },
  {
   "cell_type": "code",
   "execution_count": 20,
   "id": "f2010f7a",
   "metadata": {},
   "outputs": [
    {
     "name": "stdout",
     "output_type": "stream",
     "text": [
      "Help on method_descriptor:\n",
      "\n",
      "symmetric_difference(...)\n",
      "    Return the symmetric difference of two sets as a new set.\n",
      "    \n",
      "    (i.e. all elements that are in exactly one of the sets.)\n",
      "\n"
     ]
    }
   ],
   "source": [
    "help(set.symmetric_difference)"
   ]
  },
  {
   "cell_type": "code",
   "execution_count": 32,
   "id": "1d51e220",
   "metadata": {},
   "outputs": [
    {
     "data": {
      "text/plain": [
       "{11, 22, 33, 66, 77, 88}"
      ]
     },
     "execution_count": 32,
     "metadata": {},
     "output_type": "execute_result"
    }
   ],
   "source": [
    "a = {11,22,33,44,55}\n",
    "b = {44,55,66,77,88}\n",
    "\n",
    "a.symmetric_difference(b)"
   ]
  },
  {
   "cell_type": "code",
   "execution_count": 33,
   "id": "7012afe4",
   "metadata": {},
   "outputs": [
    {
     "data": {
      "text/plain": [
       "{11, 22, 33, 66, 77, 88}"
      ]
     },
     "execution_count": 33,
     "metadata": {},
     "output_type": "execute_result"
    }
   ],
   "source": [
    "a = {11,22,33,44,55}\n",
    "b = {44,55,66,77,88}\n",
    "\n",
    "b.symmetric_difference(a)"
   ]
  },
  {
   "cell_type": "markdown",
   "id": "fb9d9a95",
   "metadata": {},
   "source": [
    "### difference_update()"
   ]
  },
  {
   "cell_type": "markdown",
   "id": "d1ea5bb7",
   "metadata": {},
   "source": [
    "* The difference_update() method removes the items that exist in both sets.\n",
    "\n",
    "* The difference_update() method is different from the difference() method, because the difference() method returns a new set, without the unwanted items, and the difference_update() method removes the unwanted items from the original set.\n"
   ]
  },
  {
   "cell_type": "markdown",
   "id": "a2901788",
   "metadata": {},
   "source": [
    "\n",
    "* Syntax\n",
    "    * set.difference_update(set)"
   ]
  },
  {
   "cell_type": "code",
   "execution_count": 34,
   "id": "66bc086d",
   "metadata": {},
   "outputs": [
    {
     "name": "stdout",
     "output_type": "stream",
     "text": [
      "Help on method_descriptor:\n",
      "\n",
      "difference_update(...)\n",
      "    Remove all elements of another set from this set.\n",
      "\n"
     ]
    }
   ],
   "source": [
    "help(set.difference_update)"
   ]
  },
  {
   "cell_type": "code",
   "execution_count": 36,
   "id": "57dff504",
   "metadata": {},
   "outputs": [
    {
     "data": {
      "text/plain": [
       "{11, 22, 33}"
      ]
     },
     "execution_count": 36,
     "metadata": {},
     "output_type": "execute_result"
    }
   ],
   "source": [
    "a = {11,22,33,44,55}\n",
    "b = {44,55,66,77,88}\n",
    "\n",
    "a.difference_update(b)\n",
    "a"
   ]
  },
  {
   "cell_type": "code",
   "execution_count": 37,
   "id": "448af68c",
   "metadata": {
    "scrolled": true
   },
   "outputs": [
    {
     "data": {
      "text/plain": [
       "{66, 77, 88}"
      ]
     },
     "execution_count": 37,
     "metadata": {},
     "output_type": "execute_result"
    }
   ],
   "source": [
    "a = {11,22,33,44,55}\n",
    "b = {44,55,66,77,88}\n",
    "\n",
    "b.difference_update(a)\n",
    "b"
   ]
  },
  {
   "cell_type": "markdown",
   "id": "f3b48307",
   "metadata": {},
   "source": [
    "### intersection_update()"
   ]
  },
  {
   "cell_type": "markdown",
   "id": "af9dd90f",
   "metadata": {},
   "source": [
    "* The intersection_update() method removes the items that is not present in both sets (or in all sets if the comparison is done between more than two sets).\n",
    "\n",
    "* The intersection_update() method is different from the intersection() method, because the intersection() method returns a new set, without the unwanted items, and the intersection_update() method removes the unwanted items from the original set.\n",
    "\n"
   ]
  },
  {
   "cell_type": "markdown",
   "id": "319c1b5a",
   "metadata": {},
   "source": [
    "* Syntax\n",
    "    * set.intersection_update(set1, set2 ...)"
   ]
  },
  {
   "cell_type": "code",
   "execution_count": 38,
   "id": "1d5a05fd",
   "metadata": {},
   "outputs": [
    {
     "name": "stdout",
     "output_type": "stream",
     "text": [
      "Help on method_descriptor:\n",
      "\n",
      "intersection_update(...)\n",
      "    Update a set with the intersection of itself and another.\n",
      "\n"
     ]
    }
   ],
   "source": [
    "help(set.intersection_update)"
   ]
  },
  {
   "cell_type": "code",
   "execution_count": 40,
   "id": "abfda4fb",
   "metadata": {},
   "outputs": [
    {
     "data": {
      "text/plain": [
       "{44, 55}"
      ]
     },
     "execution_count": 40,
     "metadata": {},
     "output_type": "execute_result"
    }
   ],
   "source": [
    "a = {11,22,33,44,55}\n",
    "b = {44,55,66,77,88}\n",
    "\n",
    "a.intersection_update(b)\n",
    "a"
   ]
  },
  {
   "cell_type": "code",
   "execution_count": 39,
   "id": "5ec61b31",
   "metadata": {},
   "outputs": [
    {
     "data": {
      "text/plain": [
       "{44, 55}"
      ]
     },
     "execution_count": 39,
     "metadata": {},
     "output_type": "execute_result"
    }
   ],
   "source": [
    "a = {11,22,33,44,55}\n",
    "b = {44,55,66,77,88}\n",
    "\n",
    "b.intersection_update(a)\n",
    "b"
   ]
  },
  {
   "cell_type": "markdown",
   "id": "eb11c534",
   "metadata": {},
   "source": [
    "### symmetric_difference_update()"
   ]
  },
  {
   "cell_type": "markdown",
   "id": "54293bfa",
   "metadata": {},
   "source": [
    "* The symmetric_difference_update() method updates the original set by removing items that are present in both sets, and inserting the other items."
   ]
  },
  {
   "cell_type": "markdown",
   "id": "1b18be05",
   "metadata": {},
   "source": [
    "* Syntax\n",
    "    * set.symmetric_difference_update(set)"
   ]
  },
  {
   "cell_type": "code",
   "execution_count": 41,
   "id": "c0541855",
   "metadata": {},
   "outputs": [
    {
     "name": "stdout",
     "output_type": "stream",
     "text": [
      "Help on method_descriptor:\n",
      "\n",
      "symmetric_difference_update(...)\n",
      "    Update a set with the symmetric difference of itself and another.\n",
      "\n"
     ]
    }
   ],
   "source": [
    "help(set.symmetric_difference_update)"
   ]
  },
  {
   "cell_type": "code",
   "execution_count": 42,
   "id": "c3189526",
   "metadata": {},
   "outputs": [
    {
     "data": {
      "text/plain": [
       "{11, 22, 33, 66, 77, 88}"
      ]
     },
     "execution_count": 42,
     "metadata": {},
     "output_type": "execute_result"
    }
   ],
   "source": [
    "a = {11,22,33,44,55}\n",
    "b = {44,55,66,77,88}\n",
    "\n",
    "a.symmetric_difference_update(b)\n",
    "a"
   ]
  },
  {
   "cell_type": "code",
   "execution_count": 43,
   "id": "9c08024e",
   "metadata": {},
   "outputs": [
    {
     "data": {
      "text/plain": [
       "{11, 22, 33, 66, 77, 88}"
      ]
     },
     "execution_count": 43,
     "metadata": {},
     "output_type": "execute_result"
    }
   ],
   "source": [
    "a = {11,22,33,44,55}\n",
    "b = {44,55,66,77,88}\n",
    "\n",
    "b.symmetric_difference_update(a)\n",
    "b"
   ]
  },
  {
   "cell_type": "markdown",
   "id": "407e9640",
   "metadata": {},
   "source": [
    "# Dictionary in Python"
   ]
  },
  {
   "cell_type": "markdown",
   "id": "03894375",
   "metadata": {},
   "source": [
    "* dictionaries are key & value pairs enclosed in {}\n",
    "\n",
    "* key and value are seperated by : while key and value pairs are seperated by ,\n",
    "\n",
    "* keys are mapped to their values\n",
    "\n",
    "* In dictionaries, keys are unique, we can't have duplicate keys, we can have duplicate values.\n",
    "\n",
    "* dictionaries are unordered & mutable. keys of dictionaries can be used to iterate over values\n",
    "\n",
    "* {} is an empty dictionary\n",
    "\n",
    "* dict is class of dictionary"
   ]
  },
  {
   "cell_type": "code",
   "execution_count": 53,
   "id": "eade101b",
   "metadata": {},
   "outputs": [
    {
     "name": "stdout",
     "output_type": "stream",
     "text": [
      "{2: [11, 2.3, 44], 'hi': (25, 35, 45), ('a', 'b'): 50, 'name': 'harshit'}\n",
      "<class 'dict'>\n"
     ]
    }
   ],
   "source": [
    "x = {2:[11,2.3,44],\n",
    "    'hi':(25,35,45),\n",
    "    ('a','b'):50,\n",
    "    'name':'harshit'}\n",
    "\n",
    "print(x, type(x), sep = '\\n')"
   ]
  },
  {
   "cell_type": "code",
   "execution_count": 46,
   "id": "1c57e469",
   "metadata": {},
   "outputs": [
    {
     "name": "stdout",
     "output_type": "stream",
     "text": [
      "{2: [11, 2.3, 44], 'hi': 50}\n"
     ]
    }
   ],
   "source": [
    "x = {2:[11,2.3,44],\n",
    "    'hi':(25,35,45),\n",
    "    'hi':50}\n",
    "\n",
    "print(x)"
   ]
  },
  {
   "cell_type": "markdown",
   "id": "aafa5feb",
   "metadata": {},
   "source": [
    "### Create a dictionary"
   ]
  },
  {
   "cell_type": "markdown",
   "id": "cb101e27",
   "metadata": {},
   "source": [
    "* dictionaries are key & value pairs enclosed in {}, key and value are seperated by`:` while key and value pairs are seperated by `,`"
   ]
  },
  {
   "cell_type": "code",
   "execution_count": 56,
   "id": "2bc4f3f4",
   "metadata": {},
   "outputs": [
    {
     "name": "stdout",
     "output_type": "stream",
     "text": [
      "{}\n",
      "<class 'dict'>\n"
     ]
    }
   ],
   "source": [
    "x = {} #empty dictionary\n",
    "\n",
    "print(x, type(x), sep = '\\n')"
   ]
  },
  {
   "cell_type": "code",
   "execution_count": 55,
   "id": "a967529b",
   "metadata": {},
   "outputs": [
    {
     "name": "stdout",
     "output_type": "stream",
     "text": [
      "{}\n",
      "<class 'dict'>\n"
     ]
    }
   ],
   "source": [
    "x = dict()\n",
    "print(x, type(x), sep = '\\n')"
   ]
  },
  {
   "cell_type": "markdown",
   "id": "ac276841",
   "metadata": {},
   "source": [
    "### Accessing Items\n",
    "* You can access the items of a dictionary by referring to its key name, inside square brackets."
   ]
  },
  {
   "cell_type": "code",
   "execution_count": 49,
   "id": "4942722a",
   "metadata": {},
   "outputs": [
    {
     "name": "stdout",
     "output_type": "stream",
     "text": [
      "(25, 35, 45)\n"
     ]
    }
   ],
   "source": [
    "x = {2:[11,2.3,44],\n",
    "    'hi':(25,35,45),\n",
    "    ('a','b'):50,\n",
    "    'name':'harshit'}\n",
    "\n",
    "print(x['hi'])"
   ]
  },
  {
   "cell_type": "code",
   "execution_count": 50,
   "id": "af3cb1bf",
   "metadata": {},
   "outputs": [
    {
     "name": "stdout",
     "output_type": "stream",
     "text": [
      "35\n"
     ]
    }
   ],
   "source": [
    "print(x['hi'][1])"
   ]
  },
  {
   "cell_type": "code",
   "execution_count": 52,
   "id": "ef65729d",
   "metadata": {},
   "outputs": [
    {
     "name": "stdout",
     "output_type": "stream",
     "text": [
      "h\n"
     ]
    }
   ],
   "source": [
    "x = {2:[11,2.3,44],\n",
    "    'hi':(25,35,45),\n",
    "    ('a','b'):50,\n",
    "    'name':'harshit'}\n",
    "\n",
    "print(x['name'][4])"
   ]
  },
  {
   "cell_type": "code",
   "execution_count": null,
   "id": "b2d3bebe",
   "metadata": {},
   "outputs": [],
   "source": []
  }
 ],
 "metadata": {
  "kernelspec": {
   "display_name": "Python 3 (ipykernel)",
   "language": "python",
   "name": "python3"
  },
  "language_info": {
   "codemirror_mode": {
    "name": "ipython",
    "version": 3
   },
   "file_extension": ".py",
   "mimetype": "text/x-python",
   "name": "python",
   "nbconvert_exporter": "python",
   "pygments_lexer": "ipython3",
   "version": "3.11.5"
  }
 },
 "nbformat": 4,
 "nbformat_minor": 5
}
